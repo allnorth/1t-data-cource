{
 "cells": [
  {
   "cell_type": "code",
   "execution_count": null,
   "metadata": {},
   "outputs": [],
   "source": [
    "import pandas as pd\n",
    "\n",
    "lst = ['customers.csv', 'organizations.csv', 'people.csv']\n",
    "csv_input = pd.read_csv('customers.csv', usecols=['Index','Customer Id', 'Email', 'Company','Subscription Date'])\n",
    "csv_input['year'] = pd.DatetimeIndex(csv_input['Subscription Date']).year\n",
    "csv_input['group'] = 0\n",
    "csv_input['Company'] = csv_input['Company'].str.replace(',','')\n",
    "csv_input['group'] = pd.cut(csv_input.index, bins=[-1,10000,20000,30000,40000,50000,60000,70000,80000,90000,100000], labels=[1,2,3,4,5,6,7,8,9,10])\n",
    "csv_input.to_csv('customers.csv', index=False)\n",
    "\n",
    "csv_input = pd.read_csv('organizations.csv', usecols=['Index','Organization Id','Name'])\n",
    "csv_input['group'] = 0\n",
    "csv_input['Name'] = csv_input['Name'].str.replace(',','')\n",
    "csv_input['group'] = pd.cut(csv_input.index, bins=[-1,10000,20000,30000,40000,50000,60000,70000,80000,90000,100000], labels=[1,2,3,4,5,6,7,8,9,10])\n",
    "csv_input.to_csv('organizations.csv', index=False)\n",
    "\n",
    "csv_input = pd.read_csv('people.csv', usecols=['Index', 'User Id', 'Email', 'Date of birth'])\n",
    "csv_input['group'] = 0\n",
    "csv_input['group'] = pd.cut(csv_input.index, bins=[-1,10000,20000,30000,40000,50000,60000,70000,80000,90000,100000], labels=[1,2,3,4,5,6,7,8,9,10])\n",
    "csv_input.to_csv('people.csv', index=False)"
   ]
  }
 ],
 "metadata": {
  "kernelspec": {
   "display_name": "Python 3",
   "language": "python",
   "name": "python3"
  },
  "language_info": {
   "name": "python",
   "version": "3.9.6"
  },
  "orig_nbformat": 4
 },
 "nbformat": 4,
 "nbformat_minor": 2
}
