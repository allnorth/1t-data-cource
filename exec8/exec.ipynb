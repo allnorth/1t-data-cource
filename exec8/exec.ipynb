{
 "cells": [
  {
   "cell_type": "code",
   "execution_count": 20,
   "metadata": {},
   "outputs": [
    {
     "data": {
      "text/plain": [
       "[1, 3, 5]"
      ]
     },
     "execution_count": 20,
     "metadata": {},
     "output_type": "execute_result"
    }
   ],
   "source": [
    "#Написать программу, которая удаляет из списка все элементы, стоящие на четных позициях.\n",
    "\n",
    "def remove_sec(lst):\n",
    "    lst = lst[::2]\n",
    "    return lst\n",
    "\n",
    "lst = [1, 2, 3, 4, 5, 6]\n",
    "remove_sec(lst)"
   ]
  },
  {
   "cell_type": "code",
   "execution_count": 20,
   "metadata": {},
   "outputs": [
    {
     "data": {
      "text/plain": [
       "['aaayadsd', 'hjeattyen']"
      ]
     },
     "execution_count": 20,
     "metadata": {},
     "output_type": "execute_result"
    }
   ],
   "source": [
    "#Написать программу, которая считывает список слов и находит слова,\n",
    "#содержащие более трех гласных букв.\n",
    "\n",
    "def check_word(word_list):\n",
    "    gl = ['a','e','i','o','u','y']\n",
    "    res = []\n",
    "    for word in word_list:\n",
    "        cnt = 0\n",
    "        for i in word:\n",
    "            if i.lower() in gl:\n",
    "                cnt += 1\n",
    "        \n",
    "        if cnt > 3:\n",
    "            res.append(word)\n",
    "\n",
    "    return res\n",
    "\n",
    "lst = ['aaayadsd', 'afgdgd', 'fatarat', 'hjeattyen']\n",
    "check_word(lst)"
   ]
  },
  {
   "cell_type": "code",
   "execution_count": 21,
   "metadata": {},
   "outputs": [
    {
     "data": {
      "text/plain": [
       "[1, 2, 3, 4, 5, 6]"
      ]
     },
     "execution_count": 21,
     "metadata": {},
     "output_type": "execute_result"
    }
   ],
   "source": [
    "#Написать программу, которая находит второй по величине элемент в списке.\n",
    "\n",
    "def get_sec(lst):\n",
    "    lst.sort()\n",
    "    return lst\n",
    "\n",
    "lst = [1, 2, 3, 4, 5, 6]\n",
    "get_sec(lst)\n"
   ]
  },
  {
   "cell_type": "code",
   "execution_count": 4,
   "metadata": {},
   "outputs": [
    {
     "data": {
      "text/plain": [
       "[1, 2, 3, 4]"
      ]
     },
     "execution_count": 4,
     "metadata": {},
     "output_type": "execute_result"
    }
   ],
   "source": [
    "#Написать программу, которая удаляет из списка все дубликаты.\n",
    "\n",
    "def remove_dubl(lst):\n",
    "    st = set()\n",
    "    return [x for x in lst if not (x in st or st.add(x))]\n",
    "\n",
    "lst = [1, 1, 2, 2, 3, 4]\n",
    "remove_dubl(lst)"
   ]
  },
  {
   "cell_type": "code",
   "execution_count": 18,
   "metadata": {},
   "outputs": [
    {
     "data": {
      "text/plain": [
       "{'jon': {'gender': 'm', 'age': '20', 'salary': '100'},\n",
       " 'nik': {'gender': 'm', 'age': '35', 'salary': '150'},\n",
       " 'mary': {'gender': 'w', 'age': '18', 'salary': '90'},\n",
       " 'paul': {'gender': 'm', 'age': '49', 'salary': '80'},\n",
       " 'henry': {'gender': 'm', 'age': '19', 'salary': '135'},\n",
       " 'sarah': {'gender': 'w', 'age': '28', 'salary': '55'}}"
      ]
     },
     "execution_count": 18,
     "metadata": {},
     "output_type": "execute_result"
    }
   ],
   "source": [
    "#Написать программу, которая считывает данные из CSV-файла и создает словарь,\n",
    "#где ключами являются значения в столбце «Name», а значениями — соответствующие им словари \n",
    "#с информацией о поле, возрасте и зарплате.\n",
    "\n",
    "def get_dict(file_name):\n",
    "    rows = {}\n",
    "    with open(file_name) as f:\n",
    "        for line in f.readlines()[1:]:\n",
    "            line = line.strip()\n",
    "            line = line.split(';')\n",
    "            rows.update({line[0]: {'gender': line[1], 'age': line[2], 'salary': line[3]}})\n",
    "\n",
    "    return(rows)\n",
    "\n",
    "get_dict('test_file.csv')"
   ]
  },
  {
   "cell_type": "code",
   "execution_count": 29,
   "metadata": {},
   "outputs": [
    {
     "data": {
      "text/plain": [
       "['cxv', 'xvx', 'vxz', 'xzv', 'zvz', 'vzx', 'zxv']"
      ]
     },
     "execution_count": 29,
     "metadata": {},
     "output_type": "execute_result"
    }
   ],
   "source": [
    "#Написать программу, которая запрашивает у пользователя строку и выводит на экран \n",
    "#все ее подстроки длиной не менее трех символов.\n",
    "\n",
    "def get_str():\n",
    "    word = input(\"Please type in a word: \")\n",
    "    substr = []\n",
    "    for x in range(0, len(word) - 2):\n",
    "        substr.append(word[x:x + 3])\n",
    "    \n",
    "    return substr\n",
    "\n",
    "get_str()"
   ]
  }
 ],
 "metadata": {
  "kernelspec": {
   "display_name": "Python 3",
   "language": "python",
   "name": "python3"
  },
  "language_info": {
   "codemirror_mode": {
    "name": "ipython",
    "version": 3
   },
   "file_extension": ".py",
   "mimetype": "text/x-python",
   "name": "python",
   "nbconvert_exporter": "python",
   "pygments_lexer": "ipython3",
   "version": "3.9.6"
  },
  "orig_nbformat": 4
 },
 "nbformat": 4,
 "nbformat_minor": 2
}
