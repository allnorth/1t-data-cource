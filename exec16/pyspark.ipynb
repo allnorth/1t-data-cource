{
 "cells": [
  {
   "cell_type": "code",
   "execution_count": 87,
   "metadata": {},
   "outputs": [],
   "source": [
    "from pyspark.sql import SparkSession\n",
    "from pyspark.sql import functions as f\n",
    "from pyspark.sql.types import *\n",
    "\n",
    "spark = SparkSession.builder \\\n",
    "      .master(\"local\") \\\n",
    "      .appName(\"Spark\") \\\n",
    "      .config(\"spark.executor.memory\", \"10g\")\\\n",
    "      .config(\"spark.executor.cores\", 5) \\\n",
    "      .config(\"spark.dynamicAllocation.enabled\", \"true\") \\\n",
    "      .config(\"spark.dynamicAllocation.maxExecutors\", 5) \\\n",
    "      .config(\"spark.shuffle.service.enabled\", \"true\") \\\n",
    "      .getOrCreate() "
   ]
  },
  {
   "cell_type": "code",
   "execution_count": 89,
   "metadata": {},
   "outputs": [],
   "source": [
    "import pandas as pd\n",
    "df_excel = pd.read_excel('spark_example_files/online_retail.xlsx', header=0) #, sheetname='<your sheet>'\n",
    "df_cvs = df_excel.to_csv('online_retail.csv', index= False, sep=';')"
   ]
  },
  {
   "cell_type": "code",
   "execution_count": 90,
   "metadata": {},
   "outputs": [
    {
     "name": "stderr",
     "output_type": "stream",
     "text": [
      "                                                                                \r"
     ]
    }
   ],
   "source": [
    "df_raw = spark.read.csv('online_retail.csv', sep =\";\", header = True, inferSchema='true')\n",
    "df = df_raw.dropna(how='any')"
   ]
  },
  {
   "cell_type": "code",
   "execution_count": 91,
   "metadata": {},
   "outputs": [
    {
     "name": "stdout",
     "output_type": "stream",
     "text": [
      "+---------+---------+--------------------+--------+-------------------+---------+----------+--------------+\n",
      "|InvoiceNo|StockCode|         Description|Quantity|        InvoiceDate|UnitPrice|CustomerID|       Country|\n",
      "+---------+---------+--------------------+--------+-------------------+---------+----------+--------------+\n",
      "|   536365|   85123A|WHITE HANGING HEA...|       6|2010-12-01 08:26:00|     2.55|   17850.0|United Kingdom|\n",
      "|   536365|    71053| WHITE METAL LANTERN|       6|2010-12-01 08:26:00|     3.39|   17850.0|United Kingdom|\n",
      "|   536365|   84406B|CREAM CUPID HEART...|       8|2010-12-01 08:26:00|     2.75|   17850.0|United Kingdom|\n",
      "|   536365|   84029G|KNITTED UNION FLA...|       6|2010-12-01 08:26:00|     3.39|   17850.0|United Kingdom|\n",
      "|   536365|   84029E|RED WOOLLY HOTTIE...|       6|2010-12-01 08:26:00|     3.39|   17850.0|United Kingdom|\n",
      "+---------+---------+--------------------+--------+-------------------+---------+----------+--------------+\n",
      "only showing top 5 rows\n",
      "\n"
     ]
    }
   ],
   "source": [
    "df_raw.show(5)"
   ]
  },
  {
   "cell_type": "code",
   "execution_count": 93,
   "metadata": {},
   "outputs": [
    {
     "name": "stderr",
     "output_type": "stream",
     "text": [
      "                                                                                \r"
     ]
    },
    {
     "name": "stdout",
     "output_type": "stream",
     "text": [
      "406829\n"
     ]
    },
    {
     "name": "stderr",
     "output_type": "stream",
     "text": [
      "                                                                                \r"
     ]
    },
    {
     "name": "stdout",
     "output_type": "stream",
     "text": [
      "+--------------------------+\n",
      "|count(DISTINCT CustomerId)|\n",
      "+--------------------------+\n",
      "|                      4372|\n",
      "+--------------------------+\n",
      "\n"
     ]
    },
    {
     "name": "stderr",
     "output_type": "stream",
     "text": [
      "                                                                                \r"
     ]
    },
    {
     "name": "stdout",
     "output_type": "stream",
     "text": [
      "+--------------+------+\n",
      "|       Country| count|\n",
      "+--------------+------+\n",
      "|United Kingdom|361878|\n",
      "+--------------+------+\n",
      "\n"
     ]
    },
    {
     "name": "stderr",
     "output_type": "stream",
     "text": [
      "                                                                                \r"
     ]
    },
    {
     "name": "stdout",
     "output_type": "stream",
     "text": [
      "+-------------------+\n",
      "|   min(InvoiceDate)|\n",
      "+-------------------+\n",
      "|2010-12-01 08:26:00|\n",
      "+-------------------+\n",
      "\n"
     ]
    },
    {
     "name": "stderr",
     "output_type": "stream",
     "text": [
      "                                                                                \r"
     ]
    },
    {
     "name": "stdout",
     "output_type": "stream",
     "text": [
      "+-------------------+\n",
      "|   max(InvoiceDate)|\n",
      "+-------------------+\n",
      "|2011-12-09 12:50:00|\n",
      "+-------------------+\n",
      "\n"
     ]
    },
    {
     "name": "stderr",
     "output_type": "stream",
     "text": [
      "[Stage 549:>  (0 + 1) / 1][Stage 551:>  (0 + 0) / 1][Stage 553:>  (0 + 0) / 1]1]\r"
     ]
    },
    {
     "name": "stdout",
     "output_type": "stream",
     "text": [
      "+----------+-------+---------+--------+\n",
      "|CustomerID|Recency|Frequency|Monetary|\n",
      "+----------+-------+---------+--------+\n",
      "|   13094.0|   4299|       16| 1708.86|\n",
      "|   17884.0|   4281|        4|  717.45|\n",
      "|   16561.0|   4283|        2|  511.12|\n",
      "|   13973.0|   4565|        1|   264.7|\n",
      "|   14285.0|   4299|        4| 1910.01|\n",
      "|   17633.0|   4309|        6| 1242.34|\n",
      "|   13956.0|   4283|        5| 1026.42|\n",
      "|   13533.0|   4460|        3|  270.79|\n",
      "|   13918.0|   4327|        2| 1212.84|\n",
      "|   12493.0|   4443|        3|  416.79|\n",
      "|   17267.0|   4405|        2|  317.62|\n",
      "|   14768.0|   4295|        3|   139.5|\n",
      "|   15776.0|   4411|        1|  241.62|\n",
      "|   16629.0|   4351|        2|  417.73|\n",
      "|   14473.0|   4352|        2|  234.34|\n",
      "|   18114.0|   4568|        1|   220.1|\n",
      "|   13607.0|   4318|        1|  678.01|\n",
      "|   16596.0|   4293|        2|  250.15|\n",
      "|   14024.0|   4399|        2|   327.7|\n",
      "|   14452.0|   4288|        2|  264.44|\n",
      "+----------+-------+---------+--------+\n",
      "only showing top 20 rows\n",
      "\n"
     ]
    },
    {
     "name": "stderr",
     "output_type": "stream",
     "text": [
      "                                                                                \r"
     ]
    }
   ],
   "source": [
    "#Количество строк в файле\n",
    "print(df.count())\n",
    "\n",
    "#Количество уникальных клиентов\n",
    "df.select(f.count_distinct('CustomerId')).show()\n",
    "\n",
    "#В какой стране совершается большинство покупок\n",
    "max_sale_country = df.groupBy('Country').count().orderBy(f.count_distinct('InvoiceNo'), ascending=False).limit(1)\n",
    "max_sale_country.show()\n",
    "\n",
    "#Даты самой ранней и самой последней покупки на платформе\n",
    "df.select([f.min(\"InvoiceDate\")]).alias('MinInvoiceDate').show()\n",
    "df.select([f.max(\"InvoiceDate\")]).alias('MaxInvoiceDate').show()\n",
    "\n",
    "#TotalPrice\n",
    "df = df.withColumn('TotalPrice', f.round(df.Quantity * df.UnitPrice, 2))\n",
    "\n",
    "#Duration\n",
    "df = df.withColumn('Duration', f.datediff(f.current_date(), 'InvoiceDate'))\n",
    "\n",
    "#Recency\n",
    "recency = df.groupBy('CustomerID').agg(f.min('Duration').alias('Recency'))\n",
    "\n",
    "#Frequency\n",
    "frequency = df.groupBy('CustomerID', 'InvoiceNo').count().groupBy('CustomerID').agg(f.count(\"*\").alias(\"Frequency\"))\n",
    "\n",
    "#Monetary\n",
    "monetary = df.groupBy('CustomerID').agg(f.round(f.sum('TotalPrice'), 2).alias('Monetary'))\n",
    "\n",
    "#RFM\n",
    "rfm = recency.join(frequency,'CustomerID', how = 'inner')\\\n",
    "             .join(monetary,'CustomerID', how = 'inner')\n",
    "\n",
    "rfm.show()\n",
    "\n"
   ]
  },
  {
   "cell_type": "code",
   "execution_count": 96,
   "metadata": {},
   "outputs": [
    {
     "name": "stderr",
     "output_type": "stream",
     "text": [
      "                                                                                \r"
     ]
    },
    {
     "data": {
      "text/html": [
       "<div>\n",
       "<style scoped>\n",
       "    .dataframe tbody tr th:only-of-type {\n",
       "        vertical-align: middle;\n",
       "    }\n",
       "\n",
       "    .dataframe tbody tr th {\n",
       "        vertical-align: top;\n",
       "    }\n",
       "\n",
       "    .dataframe thead th {\n",
       "        text-align: right;\n",
       "    }\n",
       "</style>\n",
       "<table border=\"1\" class=\"dataframe\">\n",
       "  <thead>\n",
       "    <tr style=\"text-align: right;\">\n",
       "      <th></th>\n",
       "      <th>summary</th>\n",
       "      <th>Recency</th>\n",
       "      <th>Frequency</th>\n",
       "      <th>Monetary</th>\n",
       "    </tr>\n",
       "  </thead>\n",
       "  <tbody>\n",
       "    <tr>\n",
       "      <th>0</th>\n",
       "      <td>count</td>\n",
       "      <td>4372</td>\n",
       "      <td>4372</td>\n",
       "      <td>4372</td>\n",
       "    </tr>\n",
       "    <tr>\n",
       "      <th>1</th>\n",
       "      <td>mean</td>\n",
       "      <td>4369.581198536139</td>\n",
       "      <td>5.07548032936871</td>\n",
       "      <td>1898.459700365968</td>\n",
       "    </tr>\n",
       "    <tr>\n",
       "      <th>2</th>\n",
       "      <td>stddev</td>\n",
       "      <td>100.77213931384824</td>\n",
       "      <td>9.338754163574727</td>\n",
       "      <td>8219.345141139713</td>\n",
       "    </tr>\n",
       "    <tr>\n",
       "      <th>3</th>\n",
       "      <td>min</td>\n",
       "      <td>4278</td>\n",
       "      <td>1</td>\n",
       "      <td>-4287.63</td>\n",
       "    </tr>\n",
       "    <tr>\n",
       "      <th>4</th>\n",
       "      <td>max</td>\n",
       "      <td>4651</td>\n",
       "      <td>248</td>\n",
       "      <td>279489.02</td>\n",
       "    </tr>\n",
       "    <tr>\n",
       "      <th>5</th>\n",
       "      <td>0%</td>\n",
       "      <td>4278.0</td>\n",
       "      <td>1.0</td>\n",
       "      <td>-4287.63</td>\n",
       "    </tr>\n",
       "    <tr>\n",
       "      <th>6</th>\n",
       "      <td>10%</td>\n",
       "      <td>4282.0</td>\n",
       "      <td>1.0</td>\n",
       "      <td>146.022</td>\n",
       "    </tr>\n",
       "    <tr>\n",
       "      <th>7</th>\n",
       "      <td>20%</td>\n",
       "      <td>4289.0</td>\n",
       "      <td>1.0</td>\n",
       "      <td>234.392</td>\n",
       "    </tr>\n",
       "    <tr>\n",
       "      <th>8</th>\n",
       "      <td>30%</td>\n",
       "      <td>4299.0</td>\n",
       "      <td>1.0</td>\n",
       "      <td>337.37</td>\n",
       "    </tr>\n",
       "    <tr>\n",
       "      <th>9</th>\n",
       "      <td>40%</td>\n",
       "      <td>4309.0</td>\n",
       "      <td>2.0</td>\n",
       "      <td>465.412</td>\n",
       "    </tr>\n",
       "    <tr>\n",
       "      <th>10</th>\n",
       "      <td>50%</td>\n",
       "      <td>4328.0</td>\n",
       "      <td>3.0</td>\n",
       "      <td>648.075</td>\n",
       "    </tr>\n",
       "    <tr>\n",
       "      <th>11</th>\n",
       "      <td>60%</td>\n",
       "      <td>4349.0</td>\n",
       "      <td>4.0</td>\n",
       "      <td>909.134</td>\n",
       "    </tr>\n",
       "    <tr>\n",
       "      <th>12</th>\n",
       "      <td>70%</td>\n",
       "      <td>4386.0</td>\n",
       "      <td>5.0</td>\n",
       "      <td>1311.979</td>\n",
       "    </tr>\n",
       "    <tr>\n",
       "      <th>13</th>\n",
       "      <td>80%</td>\n",
       "      <td>4456.0</td>\n",
       "      <td>7.0</td>\n",
       "      <td>2002.092</td>\n",
       "    </tr>\n",
       "    <tr>\n",
       "      <th>14</th>\n",
       "      <td>90%</td>\n",
       "      <td>4541.0</td>\n",
       "      <td>11.0</td>\n",
       "      <td>3505.6</td>\n",
       "    </tr>\n",
       "    <tr>\n",
       "      <th>15</th>\n",
       "      <td>100%</td>\n",
       "      <td>4651.0</td>\n",
       "      <td>248.0</td>\n",
       "      <td>279489.02</td>\n",
       "    </tr>\n",
       "  </tbody>\n",
       "</table>\n",
       "</div>"
      ],
      "text/plain": [
       "   summary             Recency          Frequency           Monetary\n",
       "0    count                4372               4372               4372\n",
       "1     mean   4369.581198536139   5.07548032936871  1898.459700365968\n",
       "2   stddev  100.77213931384824  9.338754163574727  8219.345141139713\n",
       "3      min                4278                  1           -4287.63\n",
       "4      max                4651                248          279489.02\n",
       "5       0%              4278.0                1.0           -4287.63\n",
       "6      10%              4282.0                1.0            146.022\n",
       "7      20%              4289.0                1.0            234.392\n",
       "8      30%              4299.0                1.0             337.37\n",
       "9      40%              4309.0                2.0            465.412\n",
       "10     50%              4328.0                3.0            648.075\n",
       "11     60%              4349.0                4.0            909.134\n",
       "12     70%              4386.0                5.0           1311.979\n",
       "13     80%              4456.0                7.0           2002.092\n",
       "14     90%              4541.0               11.0             3505.6\n",
       "15    100%              4651.0              248.0          279489.02"
      ]
     },
     "execution_count": 96,
     "metadata": {},
     "output_type": "execute_result"
    }
   ],
   "source": [
    "import numpy as np\n",
    "\n",
    "def describe_pd(df_in, columns, deciles=False):\n",
    "    if deciles:\n",
    "        percentiles = np.array(range(0, 110, 10))\n",
    "    else:\n",
    "        percentiles = [25, 50, 75]\n",
    "\n",
    "    percs = np.transpose([np.percentile(df_in.select(x).collect(), percentiles) for x in columns])\n",
    "    percs = pd.DataFrame(percs, columns=columns)\n",
    "    percs['summary'] = [str(p) + '%' for p in percentiles]\n",
    "\n",
    "    spark_describe = df_in.describe().toPandas()\n",
    "    new_df = pd.concat([spark_describe, percs],ignore_index=True)\n",
    "    new_df = new_df.round(2)\n",
    "    return new_df[['summary'] + columns]\n",
    "\n",
    "cols = ['Recency','Frequency','Monetary']\n",
    "describe_pd(rfm , cols, 1)"
   ]
  },
  {
   "cell_type": "code",
   "execution_count": 97,
   "metadata": {},
   "outputs": [
    {
     "name": "stderr",
     "output_type": "stream",
     "text": [
      "[Stage 643:>  (0 + 1) / 1][Stage 645:>  (0 + 0) / 1][Stage 647:>  (0 + 0) / 1]1]\r"
     ]
    },
    {
     "name": "stdout",
     "output_type": "stream",
     "text": [
      "+----------+-------+---------+--------+---------+---------+---------+\n",
      "|CustomerID|Recency|Frequency|Monetary|r_segment|f_segment|m_segment|\n",
      "+----------+-------+---------+--------+---------+---------+---------+\n",
      "|   13094.0|   4299|       16| 1708.86|        B|        A|        A|\n",
      "|   17884.0|   4281|        4|  717.45|        A|        A|        A|\n",
      "|   16561.0|   4283|        2|  511.12|        A|        B|        B|\n",
      "|   13973.0|   4565|        1|   264.7|        C|        C|        B|\n",
      "|   14285.0|   4299|        4| 1910.01|        B|        A|        A|\n",
      "+----------+-------+---------+--------+---------+---------+---------+\n",
      "only showing top 5 rows\n",
      "\n"
     ]
    },
    {
     "name": "stderr",
     "output_type": "stream",
     "text": [
      "                                                                                \r"
     ]
    }
   ],
   "source": [
    "def Recency(x):\n",
    "    if  x <= 4289:\n",
    "        return 'A'\n",
    "    elif x<= 4328:\n",
    "        return 'B'\n",
    "    else:\n",
    "        return 'C'\n",
    "\n",
    "def Frequency(x):\n",
    "    if  x <= 1:\n",
    "        return 'C'\n",
    "    elif x <= 3:\n",
    "        return 'B'\n",
    "    else:\n",
    "        return 'A'\n",
    "\n",
    "def Monetary(x):\n",
    "    if  x <= 234:\n",
    "        return 'C'\n",
    "    elif x <= 648:\n",
    "        return 'B'\n",
    "    else:\n",
    "        return 'A'\n",
    "\n",
    "Recency_udf = f.udf(lambda x: Recency(x), StringType())\n",
    "Frequency_udf = f.udf(lambda x: Frequency(x), StringType())\n",
    "Monetary_udf = f.udf(lambda x: Monetary(x), StringType())\n",
    "\n",
    "rfm_segmet = rfm.withColumn('r_segment', Recency_udf('Recency'))\n",
    "rfm_segmet = rfm_segmet.withColumn('f_segment', Frequency_udf('Frequency'))\n",
    "rfm_segmet = rfm_segmet.withColumn('m_segment', Monetary_udf('Monetary'))\n",
    "\n",
    "rfm_segmet.show(5)\n"
   ]
  },
  {
   "cell_type": "code",
   "execution_count": 98,
   "metadata": {},
   "outputs": [
    {
     "name": "stderr",
     "output_type": "stream",
     "text": [
      "[Stage 655:>  (0 + 1) / 1][Stage 657:>  (0 + 0) / 1][Stage 659:>  (0 + 0) / 1]1]\r"
     ]
    },
    {
     "name": "stdout",
     "output_type": "stream",
     "text": [
      "+----------+-------+---------+--------+---------+---------+---------+--------+\n",
      "|CustomerID|Recency|Frequency|Monetary|r_segment|f_segment|m_segment|RFMScore|\n",
      "+----------+-------+---------+--------+---------+---------+---------+--------+\n",
      "|   15145.0|   4282|        4| 1194.73|        A|        A|        A|     AAA|\n",
      "|   15311.0|   4278|      118|59419.34|        A|        A|        A|     AAA|\n",
      "|   13956.0|   4283|        5| 1026.42|        A|        A|        A|     AAA|\n",
      "|   16353.0|   4281|       23| 6675.71|        A|        A|        A|     AAA|\n",
      "|   17659.0|   4281|       14| 2954.75|        A|        A|        A|     AAA|\n",
      "+----------+-------+---------+--------+---------+---------+---------+--------+\n",
      "only showing top 5 rows\n",
      "\n"
     ]
    },
    {
     "name": "stderr",
     "output_type": "stream",
     "text": [
      "                                                                                \r"
     ]
    }
   ],
   "source": [
    "rfm_segmet = rfm_segmet.withColumn('RFMScore',f.concat(f.col('r_segment'),f.col('f_segment'), f.col('m_segment')))\n",
    "rfm_segmet.sort(f.col('RFMScore')).show(5)"
   ]
  },
  {
   "cell_type": "code",
   "execution_count": 100,
   "metadata": {},
   "outputs": [
    {
     "name": "stderr",
     "output_type": "stream",
     "text": [
      "                                                                                \r"
     ]
    }
   ],
   "source": [
    "top_cust = rfm_segmet.select(f.col('CustomerID')).filter(f.col('RFMScore') == 'AAA')\n",
    "top_cust.write.csv('result')"
   ]
  }
 ],
 "metadata": {
  "kernelspec": {
   "display_name": "Python 3",
   "language": "python",
   "name": "python3"
  },
  "language_info": {
   "codemirror_mode": {
    "name": "ipython",
    "version": 3
   },
   "file_extension": ".py",
   "mimetype": "text/x-python",
   "name": "python",
   "nbconvert_exporter": "python",
   "pygments_lexer": "ipython3",
   "version": "3.9.6"
  },
  "orig_nbformat": 4
 },
 "nbformat": 4,
 "nbformat_minor": 2
}
