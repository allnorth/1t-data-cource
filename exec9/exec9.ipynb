{
 "cells": [
  {
   "cell_type": "code",
   "execution_count": 83,
   "metadata": {},
   "outputs": [
    {
     "name": "stdout",
     "output_type": "stream",
     "text": [
      "2023-01-01\n"
     ]
    }
   ],
   "source": [
    "import requests\n",
    "import psycopg2\n",
    "from psycopg2 import sql\n",
    "\n",
    "url = 'https://api.exchangerate.host/timeseries?start_date=2023-01-01&end_date=2023-01-31&base=BTC&symbols=RUB'\n",
    "response = requests.get(url)\n",
    "data = response.json()\n",
    "\n",
    "lst = []\n",
    "for i in data['rates']:\n",
    "    for j in data['rates'][i]:\n",
    "        lst.append((i, data['rates'][i][j]))\n",
    "\n",
    "conn = psycopg2.connect(dbname='testdb', user='postgres', \n",
    "                        password='postgres', host='localhost')\n",
    "\n",
    "with conn.cursor() as cursor:\n",
    "    conn.autocommit = True\n",
    "    insert = sql.SQL('INSERT INTO exchange_rate (rate_dt, rate_amt) VALUES {}').format(sql.SQL(',').join(map(sql.Literal, lst)))\n",
    "    cursor.execute(insert)\n",
    "\n",
    "    res = []\n",
    "\n",
    "    cursor.execute('SELECT * FROM exchange_rate')\n",
    "    max_rate_dt = ''\n",
    "    min_rate_dt = ''\n",
    "    max_rate_amt = 0\n",
    "    min_rate_amt = 0\n",
    "    avg_rate_amt = 0\n",
    "    last_date_rate_amt = 0\n",
    "    i = 0\n",
    "    for row in cursor:\n",
    "        i += 1\n",
    "        avg_rate_amt = avg_rate_amt + row[2]\n",
    "        last_date_rate_amt = row[2]\n",
    "        if row[2] > max_rate_amt:\n",
    "            max_rate_dt = row[1]\n",
    "            max_rate_amt = row[2]\n",
    "        elif min_rate_amt == 0 or row[2] < min_rate_amt:\n",
    "            min_rate_amt = row[2]\n",
    "            min_rate_dt = row[1]\n",
    "    avg_rate_amt = avg_rate_amt / i\n",
    "\n",
    "    res.append((data['start_date'], data['end_date'], data['base'], max_rate_dt, min_rate_dt, max_rate_amt, min_rate_amt, avg_rate_amt, last_date_rate_amt))\n",
    "\n",
    "    insert = sql.SQL('INSERT INTO rates_by_month (start_date, end_date, currency, max_rate_dt, min_rate_dt, max_rate_amt, min_rate_amt, avg_rate_amt, last_date_rate_amt) VALUES {}').format(sql.SQL(',').join(map(sql.Literal, res)))\n",
    "    cursor.execute(insert)"
   ]
  }
 ],
 "metadata": {
  "kernelspec": {
   "display_name": "Python 3",
   "language": "python",
   "name": "python3"
  },
  "language_info": {
   "codemirror_mode": {
    "name": "ipython",
    "version": 3
   },
   "file_extension": ".py",
   "mimetype": "text/x-python",
   "name": "python",
   "nbconvert_exporter": "python",
   "pygments_lexer": "ipython3",
   "version": "3.9.6"
  },
  "orig_nbformat": 4
 },
 "nbformat": 4,
 "nbformat_minor": 2
}
